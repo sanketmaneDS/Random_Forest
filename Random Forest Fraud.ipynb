{
 "cells": [
  {
   "cell_type": "markdown",
   "id": "3a359ca6",
   "metadata": {},
   "source": [
    "# Use Random Forest to prepare a model on fraud data, treating those who have taxable_income <= 30000 as \"Risky\" and others are \"Good\" "
   ]
  },
  {
   "cell_type": "markdown",
   "id": "70eee3ca",
   "metadata": {},
   "source": [
    "## Data Description :\n",
    "Undergrad : person is under graduated or not\n",
    "\n",
    "Marital.Status : marital status of a person\n",
    "\n",
    "Taxable.Income : Taxable income is the amount of how much tax an individual owes to the government\n",
    "\n",
    "Work Experience : Work experience of an individual person\n",
    "\n",
    "Urban : Whether that person belongs to urban area or not"
   ]
  },
  {
   "cell_type": "markdown",
   "id": "29e3329b",
   "metadata": {},
   "source": [
    "## Random Forest is a\n",
    "    popular machine learning algorithm that belongs to the supervised learning technique. It can be used for both Classification and Regression problems in ML. It is based on the concept of ensemble learning, which is a process of combining multiple classifiers to solve a complex problem and to improve the performance of the model.\n",
    "As the name suggests, \"Random Forest is a classifier that contains a number of decision trees on various subsets of the given dataset and takes the average to improve the predictive accuracy of that dataset.\" Instead of relying on one decision tree, the random forest takes the prediction from each tree and based on the majority votes of predictions, and it predicts the final output.\n",
    "\n",
    "The greater number of trees in the forest leads to higher accuracy and prevents the problem of overfitting."
   ]
  },
  {
   "cell_type": "code",
   "execution_count": 1,
   "id": "9924ae30",
   "metadata": {
    "ExecuteTime": {
     "end_time": "2022-11-15T09:01:40.423762Z",
     "start_time": "2022-11-15T09:01:38.723670Z"
    }
   },
   "outputs": [],
   "source": [
    "# Importing Libraries\n",
    "import pandas as pd\n",
    "import numpy as np\n",
    "import matplotlib.pyplot as plt\n",
    "import seaborn as sns\n",
    "\n",
    "from sklearn.preprocessing import StandardScaler, LabelEncoder\n",
    "from sklearn.ensemble import RandomForestClassifier\n",
    "from sklearn import tree\n",
    "from sklearn.metrics import f1_score, precision_score, recall_score, classification_report,confusion_matrix,accuracy_score, roc_auc_score, roc_curve, precision_recall_curve\n",
    "from sklearn.model_selection import GridSearchCV, KFold, StratifiedKFold, cross_val_score, train_test_split, RandomizedSearchCV\n",
    "\n",
    "import warnings\n",
    "warnings.filterwarnings('ignore')"
   ]
  },
  {
   "cell_type": "code",
   "execution_count": 2,
   "id": "65c44ef4",
   "metadata": {
    "ExecuteTime": {
     "end_time": "2022-11-15T09:01:40.456124Z",
     "start_time": "2022-11-15T09:01:40.423762Z"
    }
   },
   "outputs": [
    {
     "data": {
      "text/html": [
       "<div>\n",
       "<style scoped>\n",
       "    .dataframe tbody tr th:only-of-type {\n",
       "        vertical-align: middle;\n",
       "    }\n",
       "\n",
       "    .dataframe tbody tr th {\n",
       "        vertical-align: top;\n",
       "    }\n",
       "\n",
       "    .dataframe thead th {\n",
       "        text-align: right;\n",
       "    }\n",
       "</style>\n",
       "<table border=\"1\" class=\"dataframe\">\n",
       "  <thead>\n",
       "    <tr style=\"text-align: right;\">\n",
       "      <th></th>\n",
       "      <th>Undergrad</th>\n",
       "      <th>Marital.Status</th>\n",
       "      <th>Taxable.Income</th>\n",
       "      <th>City.Population</th>\n",
       "      <th>Work.Experience</th>\n",
       "      <th>Urban</th>\n",
       "    </tr>\n",
       "  </thead>\n",
       "  <tbody>\n",
       "    <tr>\n",
       "      <th>0</th>\n",
       "      <td>NO</td>\n",
       "      <td>Single</td>\n",
       "      <td>68833</td>\n",
       "      <td>50047</td>\n",
       "      <td>10</td>\n",
       "      <td>YES</td>\n",
       "    </tr>\n",
       "    <tr>\n",
       "      <th>1</th>\n",
       "      <td>YES</td>\n",
       "      <td>Divorced</td>\n",
       "      <td>33700</td>\n",
       "      <td>134075</td>\n",
       "      <td>18</td>\n",
       "      <td>YES</td>\n",
       "    </tr>\n",
       "    <tr>\n",
       "      <th>2</th>\n",
       "      <td>NO</td>\n",
       "      <td>Married</td>\n",
       "      <td>36925</td>\n",
       "      <td>160205</td>\n",
       "      <td>30</td>\n",
       "      <td>YES</td>\n",
       "    </tr>\n",
       "    <tr>\n",
       "      <th>3</th>\n",
       "      <td>YES</td>\n",
       "      <td>Single</td>\n",
       "      <td>50190</td>\n",
       "      <td>193264</td>\n",
       "      <td>15</td>\n",
       "      <td>YES</td>\n",
       "    </tr>\n",
       "    <tr>\n",
       "      <th>4</th>\n",
       "      <td>NO</td>\n",
       "      <td>Married</td>\n",
       "      <td>81002</td>\n",
       "      <td>27533</td>\n",
       "      <td>28</td>\n",
       "      <td>NO</td>\n",
       "    </tr>\n",
       "  </tbody>\n",
       "</table>\n",
       "</div>"
      ],
      "text/plain": [
       "  Undergrad Marital.Status  Taxable.Income  City.Population  Work.Experience  \\\n",
       "0        NO         Single           68833            50047               10   \n",
       "1       YES       Divorced           33700           134075               18   \n",
       "2        NO        Married           36925           160205               30   \n",
       "3       YES         Single           50190           193264               15   \n",
       "4        NO        Married           81002            27533               28   \n",
       "\n",
       "  Urban  \n",
       "0   YES  \n",
       "1   YES  \n",
       "2   YES  \n",
       "3   YES  \n",
       "4    NO  "
      ]
     },
     "execution_count": 2,
     "metadata": {},
     "output_type": "execute_result"
    }
   ],
   "source": [
    "#Loading dataset\n",
    "data = pd.read_csv('Fraud_check.csv')\n",
    "data.head()  "
   ]
  },
  {
   "cell_type": "markdown",
   "id": "ad06c595",
   "metadata": {},
   "source": [
    "# Descriptive Statistics"
   ]
  },
  {
   "cell_type": "code",
   "execution_count": 3,
   "id": "bcdab596",
   "metadata": {
    "ExecuteTime": {
     "end_time": "2022-11-15T09:01:40.472169Z",
     "start_time": "2022-11-15T09:01:40.456124Z"
    }
   },
   "outputs": [
    {
     "data": {
      "text/plain": [
       "0"
      ]
     },
     "execution_count": 3,
     "metadata": {},
     "output_type": "execute_result"
    }
   ],
   "source": [
    "data.isna().sum().sum()  "
   ]
  },
  {
   "cell_type": "code",
   "execution_count": 4,
   "id": "a83846f0",
   "metadata": {
    "ExecuteTime": {
     "end_time": "2022-11-15T09:01:40.488326Z",
     "start_time": "2022-11-15T09:01:40.472721Z"
    }
   },
   "outputs": [
    {
     "data": {
      "text/plain": [
       "0"
      ]
     },
     "execution_count": 4,
     "metadata": {},
     "output_type": "execute_result"
    }
   ],
   "source": [
    "data.duplicated().sum()  "
   ]
  },
  {
   "cell_type": "code",
   "execution_count": 5,
   "id": "2ba9564d",
   "metadata": {
    "ExecuteTime": {
     "end_time": "2022-11-15T09:01:40.504326Z",
     "start_time": "2022-11-15T09:01:40.488326Z"
    }
   },
   "outputs": [
    {
     "data": {
      "text/plain": [
       "(600, 6)"
      ]
     },
     "execution_count": 5,
     "metadata": {},
     "output_type": "execute_result"
    }
   ],
   "source": [
    "data.shape "
   ]
  },
  {
   "cell_type": "code",
   "execution_count": 6,
   "id": "9abd612b",
   "metadata": {
    "ExecuteTime": {
     "end_time": "2022-11-15T09:01:40.528419Z",
     "start_time": "2022-11-15T09:01:40.504326Z"
    }
   },
   "outputs": [
    {
     "data": {
      "text/html": [
       "<div>\n",
       "<style scoped>\n",
       "    .dataframe tbody tr th:only-of-type {\n",
       "        vertical-align: middle;\n",
       "    }\n",
       "\n",
       "    .dataframe tbody tr th {\n",
       "        vertical-align: top;\n",
       "    }\n",
       "\n",
       "    .dataframe thead th {\n",
       "        text-align: right;\n",
       "    }\n",
       "</style>\n",
       "<table border=\"1\" class=\"dataframe\">\n",
       "  <thead>\n",
       "    <tr style=\"text-align: right;\">\n",
       "      <th></th>\n",
       "      <th>Taxable.Income</th>\n",
       "      <th>City.Population</th>\n",
       "      <th>Work.Experience</th>\n",
       "    </tr>\n",
       "  </thead>\n",
       "  <tbody>\n",
       "    <tr>\n",
       "      <th>count</th>\n",
       "      <td>600.000000</td>\n",
       "      <td>600.000000</td>\n",
       "      <td>600.000000</td>\n",
       "    </tr>\n",
       "    <tr>\n",
       "      <th>mean</th>\n",
       "      <td>55208.375000</td>\n",
       "      <td>108747.368333</td>\n",
       "      <td>15.558333</td>\n",
       "    </tr>\n",
       "    <tr>\n",
       "      <th>std</th>\n",
       "      <td>26204.827597</td>\n",
       "      <td>49850.075134</td>\n",
       "      <td>8.842147</td>\n",
       "    </tr>\n",
       "    <tr>\n",
       "      <th>min</th>\n",
       "      <td>10003.000000</td>\n",
       "      <td>25779.000000</td>\n",
       "      <td>0.000000</td>\n",
       "    </tr>\n",
       "    <tr>\n",
       "      <th>25%</th>\n",
       "      <td>32871.500000</td>\n",
       "      <td>66966.750000</td>\n",
       "      <td>8.000000</td>\n",
       "    </tr>\n",
       "    <tr>\n",
       "      <th>50%</th>\n",
       "      <td>55074.500000</td>\n",
       "      <td>106493.500000</td>\n",
       "      <td>15.000000</td>\n",
       "    </tr>\n",
       "    <tr>\n",
       "      <th>75%</th>\n",
       "      <td>78611.750000</td>\n",
       "      <td>150114.250000</td>\n",
       "      <td>24.000000</td>\n",
       "    </tr>\n",
       "    <tr>\n",
       "      <th>max</th>\n",
       "      <td>99619.000000</td>\n",
       "      <td>199778.000000</td>\n",
       "      <td>30.000000</td>\n",
       "    </tr>\n",
       "  </tbody>\n",
       "</table>\n",
       "</div>"
      ],
      "text/plain": [
       "       Taxable.Income  City.Population  Work.Experience\n",
       "count      600.000000       600.000000       600.000000\n",
       "mean     55208.375000    108747.368333        15.558333\n",
       "std      26204.827597     49850.075134         8.842147\n",
       "min      10003.000000     25779.000000         0.000000\n",
       "25%      32871.500000     66966.750000         8.000000\n",
       "50%      55074.500000    106493.500000        15.000000\n",
       "75%      78611.750000    150114.250000        24.000000\n",
       "max      99619.000000    199778.000000        30.000000"
      ]
     },
     "execution_count": 6,
     "metadata": {},
     "output_type": "execute_result"
    }
   ],
   "source": [
    "data.describe() "
   ]
  },
  {
   "cell_type": "code",
   "execution_count": 7,
   "id": "7d0aa1b9",
   "metadata": {
    "ExecuteTime": {
     "end_time": "2022-11-15T09:01:40.544405Z",
     "start_time": "2022-11-15T09:01:40.528419Z"
    }
   },
   "outputs": [
    {
     "name": "stdout",
     "output_type": "stream",
     "text": [
      "<class 'pandas.core.frame.DataFrame'>\n",
      "RangeIndex: 600 entries, 0 to 599\n",
      "Data columns (total 6 columns):\n",
      " #   Column           Non-Null Count  Dtype \n",
      "---  ------           --------------  ----- \n",
      " 0   Undergrad        600 non-null    object\n",
      " 1   Marital.Status   600 non-null    object\n",
      " 2   Taxable.Income   600 non-null    int64 \n",
      " 3   City.Population  600 non-null    int64 \n",
      " 4   Work.Experience  600 non-null    int64 \n",
      " 5   Urban            600 non-null    object\n",
      "dtypes: int64(3), object(3)\n",
      "memory usage: 28.2+ KB\n"
     ]
    }
   ],
   "source": [
    "data.info() "
   ]
  },
  {
   "cell_type": "markdown",
   "id": "094e658f",
   "metadata": {},
   "source": [
    "# Feature Engineering"
   ]
  },
  {
   "cell_type": "code",
   "execution_count": 8,
   "id": "3b39be27",
   "metadata": {
    "ExecuteTime": {
     "end_time": "2022-11-15T09:01:40.576505Z",
     "start_time": "2022-11-15T09:01:40.544405Z"
    }
   },
   "outputs": [
    {
     "data": {
      "text/html": [
       "<div>\n",
       "<style scoped>\n",
       "    .dataframe tbody tr th:only-of-type {\n",
       "        vertical-align: middle;\n",
       "    }\n",
       "\n",
       "    .dataframe tbody tr th {\n",
       "        vertical-align: top;\n",
       "    }\n",
       "\n",
       "    .dataframe thead th {\n",
       "        text-align: right;\n",
       "    }\n",
       "</style>\n",
       "<table border=\"1\" class=\"dataframe\">\n",
       "  <thead>\n",
       "    <tr style=\"text-align: right;\">\n",
       "      <th></th>\n",
       "      <th>Undergrad</th>\n",
       "      <th>Marital.Status</th>\n",
       "      <th>Taxable.Income</th>\n",
       "      <th>City.Population</th>\n",
       "      <th>Work.Experience</th>\n",
       "      <th>Urban</th>\n",
       "      <th>loan_asset_type</th>\n",
       "    </tr>\n",
       "  </thead>\n",
       "  <tbody>\n",
       "    <tr>\n",
       "      <th>0</th>\n",
       "      <td>NO</td>\n",
       "      <td>Single</td>\n",
       "      <td>68833</td>\n",
       "      <td>50047</td>\n",
       "      <td>10</td>\n",
       "      <td>YES</td>\n",
       "      <td>Good</td>\n",
       "    </tr>\n",
       "    <tr>\n",
       "      <th>1</th>\n",
       "      <td>YES</td>\n",
       "      <td>Divorced</td>\n",
       "      <td>33700</td>\n",
       "      <td>134075</td>\n",
       "      <td>18</td>\n",
       "      <td>YES</td>\n",
       "      <td>Good</td>\n",
       "    </tr>\n",
       "    <tr>\n",
       "      <th>2</th>\n",
       "      <td>NO</td>\n",
       "      <td>Married</td>\n",
       "      <td>36925</td>\n",
       "      <td>160205</td>\n",
       "      <td>30</td>\n",
       "      <td>YES</td>\n",
       "      <td>Good</td>\n",
       "    </tr>\n",
       "    <tr>\n",
       "      <th>3</th>\n",
       "      <td>YES</td>\n",
       "      <td>Single</td>\n",
       "      <td>50190</td>\n",
       "      <td>193264</td>\n",
       "      <td>15</td>\n",
       "      <td>YES</td>\n",
       "      <td>Good</td>\n",
       "    </tr>\n",
       "    <tr>\n",
       "      <th>4</th>\n",
       "      <td>NO</td>\n",
       "      <td>Married</td>\n",
       "      <td>81002</td>\n",
       "      <td>27533</td>\n",
       "      <td>28</td>\n",
       "      <td>NO</td>\n",
       "      <td>Good</td>\n",
       "    </tr>\n",
       "    <tr>\n",
       "      <th>...</th>\n",
       "      <td>...</td>\n",
       "      <td>...</td>\n",
       "      <td>...</td>\n",
       "      <td>...</td>\n",
       "      <td>...</td>\n",
       "      <td>...</td>\n",
       "      <td>...</td>\n",
       "    </tr>\n",
       "    <tr>\n",
       "      <th>595</th>\n",
       "      <td>YES</td>\n",
       "      <td>Divorced</td>\n",
       "      <td>76340</td>\n",
       "      <td>39492</td>\n",
       "      <td>7</td>\n",
       "      <td>YES</td>\n",
       "      <td>Good</td>\n",
       "    </tr>\n",
       "    <tr>\n",
       "      <th>596</th>\n",
       "      <td>YES</td>\n",
       "      <td>Divorced</td>\n",
       "      <td>69967</td>\n",
       "      <td>55369</td>\n",
       "      <td>2</td>\n",
       "      <td>YES</td>\n",
       "      <td>Good</td>\n",
       "    </tr>\n",
       "    <tr>\n",
       "      <th>597</th>\n",
       "      <td>NO</td>\n",
       "      <td>Divorced</td>\n",
       "      <td>47334</td>\n",
       "      <td>154058</td>\n",
       "      <td>0</td>\n",
       "      <td>YES</td>\n",
       "      <td>Good</td>\n",
       "    </tr>\n",
       "    <tr>\n",
       "      <th>598</th>\n",
       "      <td>YES</td>\n",
       "      <td>Married</td>\n",
       "      <td>98592</td>\n",
       "      <td>180083</td>\n",
       "      <td>17</td>\n",
       "      <td>NO</td>\n",
       "      <td>Good</td>\n",
       "    </tr>\n",
       "    <tr>\n",
       "      <th>599</th>\n",
       "      <td>NO</td>\n",
       "      <td>Divorced</td>\n",
       "      <td>96519</td>\n",
       "      <td>158137</td>\n",
       "      <td>16</td>\n",
       "      <td>NO</td>\n",
       "      <td>Good</td>\n",
       "    </tr>\n",
       "  </tbody>\n",
       "</table>\n",
       "<p>600 rows × 7 columns</p>\n",
       "</div>"
      ],
      "text/plain": [
       "    Undergrad Marital.Status  Taxable.Income  City.Population  \\\n",
       "0          NO         Single           68833            50047   \n",
       "1         YES       Divorced           33700           134075   \n",
       "2          NO        Married           36925           160205   \n",
       "3         YES         Single           50190           193264   \n",
       "4          NO        Married           81002            27533   \n",
       "..        ...            ...             ...              ...   \n",
       "595       YES       Divorced           76340            39492   \n",
       "596       YES       Divorced           69967            55369   \n",
       "597        NO       Divorced           47334           154058   \n",
       "598       YES        Married           98592           180083   \n",
       "599        NO       Divorced           96519           158137   \n",
       "\n",
       "     Work.Experience Urban loan_asset_type  \n",
       "0                 10   YES            Good  \n",
       "1                 18   YES            Good  \n",
       "2                 30   YES            Good  \n",
       "3                 15   YES            Good  \n",
       "4                 28    NO            Good  \n",
       "..               ...   ...             ...  \n",
       "595                7   YES            Good  \n",
       "596                2   YES            Good  \n",
       "597                0   YES            Good  \n",
       "598               17    NO            Good  \n",
       "599               16    NO            Good  \n",
       "\n",
       "[600 rows x 7 columns]"
      ]
     },
     "execution_count": 8,
     "metadata": {},
     "output_type": "execute_result"
    }
   ],
   "source": [
    "# Treating those who have taxable_income <= 30000 as \"Risky\" and others are \"Good\"\n",
    "\n",
    "data1 = data.copy()\n",
    "\n",
    "list = []\n",
    "for i in range (0, len(data)):\n",
    "    if data['Taxable.Income'][i] <= 30000:\n",
    "        list.append('Risky')\n",
    "    elif data['Taxable.Income'][i] > 30000:\n",
    "        list.append('Good')\n",
    "\n",
    "data1['loan_asset_type'] = list\n",
    "\n",
    "data1 "
   ]
  },
  {
   "cell_type": "markdown",
   "id": "f5d0551e",
   "metadata": {},
   "source": [
    "# Data Visualization"
   ]
  },
  {
   "cell_type": "code",
   "execution_count": 9,
   "id": "f9630c41",
   "metadata": {
    "ExecuteTime": {
     "end_time": "2022-11-15T09:01:40.818534Z",
     "start_time": "2022-11-15T09:01:40.576505Z"
    }
   },
   "outputs": [
    {
     "data": {
      "image/png": "[encoded data removed]",
      "text/plain": [
       "<Figure size 1296x720 with 4 Axes>"
      ]
     },
     "metadata": {
      "needs_background": "light"
     },
     "output_type": "display_data"
    }
   ],
   "source": [
    "#countplot for categorical variables\n",
    "plt.figure(figsize=(18,10))\n",
    "\n",
    "plt.subplot(2,2,1)\n",
    "sns.countplot(data1['Undergrad'], palette='flare')\n",
    "plt.subplot(2,2,2)\n",
    "sns.countplot(data1['Marital.Status'], palette='flare')\n",
    "\n",
    "plt.subplot(2,2,3)\n",
    "sns.countplot(data1['Urban'], palette='flare')\n",
    "plt.subplot(2,2,4)\n",
    "sns.countplot(data1['loan_asset_type'], palette='flare')\n",
    "\n",
    "plt.show()"
   ]
  },
  {
   "cell_type": "code",
   "execution_count": 10,
   "id": "39999c32",
   "metadata": {
    "ExecuteTime": {
     "end_time": "2022-11-15T09:01:41.091073Z",
     "start_time": "2022-11-15T09:01:40.818534Z"
    }
   },
   "outputs": [
    {
     "data": {
      "image/png": "[encoded data removed]",
      "text/plain": [
       "<Figure size 1296x432 with 3 Axes>"
      ]
     },
     "metadata": {
      "needs_background": "light"
     },
     "output_type": "display_data"
    }
   ],
   "source": [
    "#Histogram for continuous variables\n",
    "\n",
    "plt.figure(figsize=(18,6))\n",
    "\n",
    "plt.subplot(1,3,1)\n",
    "sns.histplot(data1['Taxable.Income'], bins=range(min(data1['Taxable.Income']), max(data1['Taxable.Income']) + 10000, 10000))\n",
    "\n",
    "plt.subplot(1,3,2)\n",
    "sns.histplot(data1['City.Population'], bins=range(min(data1['City.Population']), max(data1['City.Population']) + 25000, 25000))\n",
    "\n",
    "plt.subplot(1,3,3)\n",
    "sns.histplot(data1['Work.Experience'], bins=range(min(data1['Work.Experience']), max(data1['Work.Experience']) + 5, 5) ) \n",
    "\n",
    "plt.show()"
   ]
  },
  {
   "cell_type": "code",
   "execution_count": 11,
   "id": "2721f3d6",
   "metadata": {
    "ExecuteTime": {
     "end_time": "2022-11-15T09:01:41.323961Z",
     "start_time": "2022-11-15T09:01:41.091265Z"
    }
   },
   "outputs": [
    {
     "data": {
      "image/png": "[encoded data removed]",
      "text/plain": [
       "<Figure size 1296x432 with 3 Axes>"
      ]
     },
     "metadata": {
      "needs_background": "light"
     },
     "output_type": "display_data"
    }
   ],
   "source": [
    "# Box plot for outlier detection\n",
    "plt.figure(figsize=(18,6))\n",
    "\n",
    "plt.subplot(1,3,1)\n",
    "sns.boxplot(data1['Taxable.Income'])\n",
    "\n",
    "plt.subplot(1,3,2)\n",
    "sns.boxplot(data1['City.Population'])\n",
    "\n",
    "plt.subplot(1,3,3)\n",
    "sns.boxplot(data1['Work.Experience'] ) \n",
    "\n",
    "plt.show()\n",
    "\n",
    "# No outliers "
   ]
  },
  {
   "cell_type": "markdown",
   "id": "e8a9667b",
   "metadata": {},
   "source": [
    "## Univariate Analysis"
   ]
  },
  {
   "cell_type": "code",
   "execution_count": 12,
   "id": "80ac4e0f",
   "metadata": {
    "ExecuteTime": {
     "end_time": "2022-11-15T09:01:41.339922Z",
     "start_time": "2022-11-15T09:01:41.323961Z"
    }
   },
   "outputs": [],
   "source": [
    "loan_asset_risky=pd.DataFrame()\n",
    "loan_asset_good=pd.DataFrame()\n",
    "\n",
    "loan_asset_risky = data1.loc[data1['loan_asset_type']=='Risky']\n",
    "\n",
    "loan_asset_good = data1.loc[data1['loan_asset_type']=='Good']\n"
   ]
  },
  {
   "cell_type": "markdown",
   "id": "f9b0e2c0",
   "metadata": {},
   "source": [
    "## Taxable income wrt fraud "
   ]
  },
  {
   "cell_type": "code",
   "execution_count": 13,
   "id": "4f1cc89c",
   "metadata": {
    "ExecuteTime": {
     "end_time": "2022-11-15T09:01:41.620426Z",
     "start_time": "2022-11-15T09:01:41.339922Z"
    }
   },
   "outputs": [
    {
     "data": {
      "image/png": "[encoded data removed]",
      "text/plain": [
       "<Figure size 1080x1008 with 2 Axes>"
      ]
     },
     "metadata": {
      "needs_background": "light"
     },
     "output_type": "display_data"
    },
    {
     "data": {
      "image/png": "[encoded data removed]",
      "text/plain": [
       "<Figure size 432x288 with 1 Axes>"
      ]
     },
     "metadata": {
      "needs_background": "light"
     },
     "output_type": "display_data"
    }
   ],
   "source": [
    "plt.figure(figsize=(15,14))\n",
    "\n",
    "plt.subplot(3,1,1)\n",
    "plt.hist(loan_asset_risky['Taxable.Income'], bins=range(min(data1['Taxable.Income']), max(data1['Taxable.Income']) + 10000, 10000))\n",
    "plt.title('Taxable.Income of those with high risk')\n",
    "\n",
    "plt.subplot(3,1,2)\n",
    "plt.hist(loan_asset_good['Taxable.Income'],  bins=range(min(data1['Taxable.Income']), max(data1['Taxable.Income']) + 10000, 10000))\n",
    "plt.title('Taxable.Income of those with no risk',)\n",
    "\n",
    "\n",
    "\n",
    "income_describe = pd.DataFrame()\n",
    "\n",
    "income_describe['Taxable.Income of those with high risk'] = loan_asset_risky['Taxable.Income'].describe()\n",
    "income_describe['Taxable.Income of those with no risk'] = loan_asset_good['Taxable.Income'].describe()\n",
    "income_describe  = income_describe.drop(['count', '25%', '50%', '75%'])\n",
    "\n",
    "plt.subplot(3,1,2)\n",
    "income_describe.plot.bar()\n",
    "\n",
    "plt.show() \n",
    " "
   ]
  },
  {
   "cell_type": "markdown",
   "id": "ee758e35",
   "metadata": {},
   "source": [
    "## Work.Experience wrt fraud"
   ]
  },
  {
   "cell_type": "code",
   "execution_count": 14,
   "id": "f3acc2c4",
   "metadata": {
    "ExecuteTime": {
     "end_time": "2022-11-15T09:01:41.868884Z",
     "start_time": "2022-11-15T09:01:41.620426Z"
    }
   },
   "outputs": [
    {
     "data": {
      "image/png": "[encoded data removed]",
      "text/plain": [
       "<Figure size 1080x1008 with 2 Axes>"
      ]
     },
     "metadata": {
      "needs_background": "light"
     },
     "output_type": "display_data"
    },
    {
     "data": {
      "image/png": "[encoded data removed]",
      "text/plain": [
       "<Figure size 432x288 with 1 Axes>"
      ]
     },
     "metadata": {
      "needs_background": "light"
     },
     "output_type": "display_data"
    }
   ],
   "source": [
    "plt.figure(figsize=(15,14))\n",
    "\n",
    "plt.subplot(3,1,1)\n",
    "plt.hist(loan_asset_risky['Work.Experience'], bins=range(min(data1['Work.Experience']), max(data1['Work.Experience']) + 5, 5))\n",
    "plt.title('Work.Experience of those with high risk')\n",
    "\n",
    "plt.subplot(3,1,2)\n",
    "plt.hist(loan_asset_good['Work.Experience'],  bins=range(min(data1['Work.Experience']), max(data1['Work.Experience']) + 5, 5))\n",
    "plt.title('Work.Experience  of those with no risk',)\n",
    "\n",
    "\n",
    "\n",
    "exp_describe = pd.DataFrame()\n",
    "\n",
    "exp_describe['Work.Experience  of those with high risk'] = loan_asset_risky['Work.Experience'].describe()\n",
    "exp_describe['Work.Experience  of those with no risk'] = loan_asset_good['Work.Experience'].describe()\n",
    "exp_describe = exp_describe.drop(['count', '25%', '50%', '75%'])\n",
    "\n",
    "plt.subplot(3,1,2)\n",
    "exp_describe.plot.bar()\n",
    "\n",
    "plt.show() \n",
    " "
   ]
  },
  {
   "cell_type": "markdown",
   "id": "5d6ac0d7",
   "metadata": {},
   "source": [
    "## Undergrad edu wrt fraud"
   ]
  },
  {
   "cell_type": "code",
   "execution_count": 15,
   "id": "7dca5924",
   "metadata": {
    "ExecuteTime": {
     "end_time": "2022-11-15T09:01:41.997396Z",
     "start_time": "2022-11-15T09:01:41.868884Z"
    }
   },
   "outputs": [
    {
     "data": {
      "image/png": "[encoded data removed]",
      "text/plain": [
       "<Figure size 1080x432 with 2 Axes>"
      ]
     },
     "metadata": {
      "needs_background": "light"
     },
     "output_type": "display_data"
    }
   ],
   "source": [
    "plt.figure(figsize=(15,6)) \n",
    "\n",
    "plt.subplot(1,2,1)\n",
    "sns.countplot(loan_asset_risky['Undergrad'])\n",
    "plt.title('Undergrad edu of those with high risk')\n",
    "\n",
    "plt.subplot(1,2,2)\n",
    "sns.countplot(loan_asset_good['Undergrad'])\n",
    "plt.title('Undergrad edu of those with no risk',)\n",
    "\n",
    "plt.show() "
   ]
  },
  {
   "cell_type": "markdown",
   "id": "3c0f433c",
   "metadata": {},
   "source": [
    "## Marital status vs fraud "
   ]
  },
  {
   "cell_type": "code",
   "execution_count": 16,
   "id": "876f56a0",
   "metadata": {
    "ExecuteTime": {
     "end_time": "2022-11-15T09:01:42.125380Z",
     "start_time": "2022-11-15T09:01:41.997396Z"
    }
   },
   "outputs": [
    {
     "data": {
      "image/png": "[encoded data removed]",
      "text/plain": [
       "<Figure size 1080x432 with 2 Axes>"
      ]
     },
     "metadata": {
      "needs_background": "light"
     },
     "output_type": "display_data"
    }
   ],
   "source": [
    "plt.figure(figsize=(15,6)) \n",
    "\n",
    "plt.subplot(1,2,1)\n",
    "sns.countplot(loan_asset_risky['Marital.Status'])\n",
    "plt.title('Marital.Status of those with high risk')\n",
    "\n",
    "plt.subplot(1,2,2)\n",
    "sns.countplot(loan_asset_good['Marital.Status'])\n",
    "plt.title('Marital.Status of those with no risk',)\n",
    "\n",
    "plt.show() "
   ]
  },
  {
   "cell_type": "markdown",
   "id": "e323a157",
   "metadata": {},
   "source": [
    "## Residence vs fraud"
   ]
  },
  {
   "cell_type": "code",
   "execution_count": 17,
   "id": "bbb57d7b",
   "metadata": {
    "ExecuteTime": {
     "end_time": "2022-11-15T09:01:42.269671Z",
     "start_time": "2022-11-15T09:01:42.125380Z"
    }
   },
   "outputs": [
    {
     "data": {
      "image/png": "[encoded data removed]",
      "text/plain": [
       "<Figure size 1080x432 with 2 Axes>"
      ]
     },
     "metadata": {
      "needs_background": "light"
     },
     "output_type": "display_data"
    }
   ],
   "source": [
    "plt.figure(figsize=(15,6)) \n",
    "\n",
    "plt.subplot(1,2,1)\n",
    "sns.countplot(loan_asset_risky['Urban'])\n",
    "plt.title('Urban residence of those with high risk')\n",
    "\n",
    "plt.subplot(1,2,2)\n",
    "sns.countplot(loan_asset_good['Urban'])\n",
    "plt.title('Urban residence of those with no risk',)\n",
    "\n",
    "plt.show() "
   ]
  },
  {
   "cell_type": "markdown",
   "id": "c92c438b",
   "metadata": {},
   "source": [
    "# Data Pre-Processing "
   ]
  },
  {
   "cell_type": "code",
   "execution_count": 18,
   "id": "de1cc37c",
   "metadata": {
    "ExecuteTime": {
     "end_time": "2022-11-15T09:01:42.285748Z",
     "start_time": "2022-11-15T09:01:42.269671Z"
    }
   },
   "outputs": [],
   "source": [
    "data2 = data1.copy()\n",
    "data2 = data2.rename(columns={'Undergrad':'undergrad' , 'Marital.Status':'marital_status', 'Taxable.Income':'taxable_income', 'City.Population':'city_population', 'Work.Experience': 'workxp', 'Urban':'urban'})\n",
    "data2.drop('taxable_income', axis=1, inplace=True) "
   ]
  },
  {
   "cell_type": "code",
   "execution_count": 19,
   "id": "04c2753f",
   "metadata": {
    "ExecuteTime": {
     "end_time": "2022-11-15T09:01:42.301707Z",
     "start_time": "2022-11-15T09:01:42.285748Z"
    }
   },
   "outputs": [
    {
     "data": {
      "text/html": [
       "<div>\n",
       "<style scoped>\n",
       "    .dataframe tbody tr th:only-of-type {\n",
       "        vertical-align: middle;\n",
       "    }\n",
       "\n",
       "    .dataframe tbody tr th {\n",
       "        vertical-align: top;\n",
       "    }\n",
       "\n",
       "    .dataframe thead th {\n",
       "        text-align: right;\n",
       "    }\n",
       "</style>\n",
       "<table border=\"1\" class=\"dataframe\">\n",
       "  <thead>\n",
       "    <tr style=\"text-align: right;\">\n",
       "      <th></th>\n",
       "      <th>undergrad</th>\n",
       "      <th>marital_status</th>\n",
       "      <th>city_population</th>\n",
       "      <th>workxp</th>\n",
       "      <th>urban</th>\n",
       "      <th>loan_asset_type</th>\n",
       "    </tr>\n",
       "  </thead>\n",
       "  <tbody>\n",
       "    <tr>\n",
       "      <th>0</th>\n",
       "      <td>NO</td>\n",
       "      <td>Single</td>\n",
       "      <td>50047</td>\n",
       "      <td>10</td>\n",
       "      <td>YES</td>\n",
       "      <td>Good</td>\n",
       "    </tr>\n",
       "    <tr>\n",
       "      <th>1</th>\n",
       "      <td>YES</td>\n",
       "      <td>Divorced</td>\n",
       "      <td>134075</td>\n",
       "      <td>18</td>\n",
       "      <td>YES</td>\n",
       "      <td>Good</td>\n",
       "    </tr>\n",
       "    <tr>\n",
       "      <th>2</th>\n",
       "      <td>NO</td>\n",
       "      <td>Married</td>\n",
       "      <td>160205</td>\n",
       "      <td>30</td>\n",
       "      <td>YES</td>\n",
       "      <td>Good</td>\n",
       "    </tr>\n",
       "    <tr>\n",
       "      <th>3</th>\n",
       "      <td>YES</td>\n",
       "      <td>Single</td>\n",
       "      <td>193264</td>\n",
       "      <td>15</td>\n",
       "      <td>YES</td>\n",
       "      <td>Good</td>\n",
       "    </tr>\n",
       "    <tr>\n",
       "      <th>4</th>\n",
       "      <td>NO</td>\n",
       "      <td>Married</td>\n",
       "      <td>27533</td>\n",
       "      <td>28</td>\n",
       "      <td>NO</td>\n",
       "      <td>Good</td>\n",
       "    </tr>\n",
       "  </tbody>\n",
       "</table>\n",
       "</div>"
      ],
      "text/plain": [
       "  undergrad marital_status  city_population  workxp urban loan_asset_type\n",
       "0        NO         Single            50047      10   YES            Good\n",
       "1       YES       Divorced           134075      18   YES            Good\n",
       "2        NO        Married           160205      30   YES            Good\n",
       "3       YES         Single           193264      15   YES            Good\n",
       "4        NO        Married            27533      28    NO            Good"
      ]
     },
     "execution_count": 19,
     "metadata": {},
     "output_type": "execute_result"
    }
   ],
   "source": [
    "data2.head() "
   ]
  },
  {
   "cell_type": "code",
   "execution_count": 20,
   "id": "ba963ee0",
   "metadata": {
    "ExecuteTime": {
     "end_time": "2022-11-15T09:01:42.317711Z",
     "start_time": "2022-11-15T09:01:42.301707Z"
    }
   },
   "outputs": [
    {
     "data": {
      "text/plain": [
       "Good     476\n",
       "Risky    124\n",
       "Name: loan_asset_type, dtype: int64"
      ]
     },
     "execution_count": 20,
     "metadata": {},
     "output_type": "execute_result"
    }
   ],
   "source": [
    "data2.loan_asset_type.value_counts()"
   ]
  },
  {
   "cell_type": "code",
   "execution_count": 21,
   "id": "c1564cba",
   "metadata": {
    "ExecuteTime": {
     "end_time": "2022-11-15T09:01:42.325705Z",
     "start_time": "2022-11-15T09:01:42.317711Z"
    }
   },
   "outputs": [],
   "source": [
    "# encoding categorical variables\n",
    "#but technique to encode input cat variable and output cat variable is different.\n",
    "#so lets split data into x and y "
   ]
  },
  {
   "cell_type": "code",
   "execution_count": 22,
   "id": "24bd407d",
   "metadata": {
    "ExecuteTime": {
     "end_time": "2022-11-15T09:01:42.349708Z",
     "start_time": "2022-11-15T09:01:42.325705Z"
    }
   },
   "outputs": [],
   "source": [
    "x = data2.drop('loan_asset_type', axis=1)\n",
    "y = data2['loan_asset_type']"
   ]
  },
  {
   "cell_type": "code",
   "execution_count": 23,
   "id": "01e3979b",
   "metadata": {
    "ExecuteTime": {
     "end_time": "2022-11-15T09:01:42.373752Z",
     "start_time": "2022-11-15T09:01:42.349708Z"
    }
   },
   "outputs": [],
   "source": [
    "x = pd.get_dummies(x) # encoding input categorical variables"
   ]
  },
  {
   "cell_type": "code",
   "execution_count": 24,
   "id": "07676e98",
   "metadata": {
    "ExecuteTime": {
     "end_time": "2022-11-15T09:01:42.389356Z",
     "start_time": "2022-11-15T09:01:42.375762Z"
    }
   },
   "outputs": [],
   "source": [
    "le = LabelEncoder()\n",
    "y = le.fit_transform(y) # encoding output categorical variables "
   ]
  },
  {
   "cell_type": "code",
   "execution_count": 25,
   "id": "0e57d5ef",
   "metadata": {
    "ExecuteTime": {
     "end_time": "2022-11-15T09:01:42.397340Z",
     "start_time": "2022-11-15T09:01:42.389356Z"
    }
   },
   "outputs": [],
   "source": [
    "# Splitting data into training and testing data set\n",
    "x_train, x_test,y_train,y_test = train_test_split(x,y, test_size=0.2,random_state=40) "
   ]
  },
  {
   "cell_type": "code",
   "execution_count": 26,
   "id": "2f13ea81",
   "metadata": {
    "ExecuteTime": {
     "end_time": "2022-11-15T09:01:42.413341Z",
     "start_time": "2022-11-15T09:01:42.397340Z"
    }
   },
   "outputs": [
    {
     "name": "stdout",
     "output_type": "stream",
     "text": [
      "Shape of X_train:  (480, 9)\n",
      "Shape of X_test:  (120, 9)\n",
      "Shape of y_train:  (480,)\n",
      "Shape of y_test (120,)\n"
     ]
    }
   ],
   "source": [
    "print(\"Shape of X_train: \",x_train.shape)\n",
    "print(\"Shape of X_test: \", x_test.shape)\n",
    "print(\"Shape of y_train: \",y_train.shape)\n",
    "print(\"Shape of y_test\",y_test.shape) "
   ]
  },
  {
   "cell_type": "markdown",
   "id": "e4956f98",
   "metadata": {},
   "source": [
    "# Building Random Forest Classifier  "
   ]
  },
  {
   "cell_type": "code",
   "execution_count": 27,
   "id": "c26e21df",
   "metadata": {
    "ExecuteTime": {
     "end_time": "2022-11-15T09:01:43.534353Z",
     "start_time": "2022-11-15T09:01:42.413341Z"
    }
   },
   "outputs": [
    {
     "name": "stdout",
     "output_type": "stream",
     "text": [
      "Batchwise accuracy is: \n",
      " [0.73333333 0.63333333 0.81666667 0.81666667 0.71666667 0.66666667\n",
      " 0.71666667 0.63333333 0.76666667 0.75      ] \n",
      "\n",
      "Overall accuracy is: 0.725\n"
     ]
    }
   ],
   "source": [
    "num_trees = 100\n",
    "max_features = 3\n",
    "\n",
    "kfold = KFold(n_splits=10, random_state=7, shuffle=True)\n",
    "\n",
    "model = RandomForestClassifier(n_estimators=num_trees, max_features=max_features)\n",
    "results = cross_val_score(model, x, y, cv=kfold)\n",
    "\n",
    "print('Batchwise accuracy is:', '\\n', results,'\\n')\n",
    "print('Overall accuracy is:', results.mean())  "
   ]
  },
  {
   "cell_type": "markdown",
   "id": "96ec3b02",
   "metadata": {},
   "source": [
    "## Grid search for hyper parameter tuning"
   ]
  },
  {
   "cell_type": "code",
   "execution_count": 28,
   "id": "297bfd56",
   "metadata": {
    "ExecuteTime": {
     "end_time": "2022-11-15T09:07:14.007797Z",
     "start_time": "2022-11-15T09:01:43.534353Z"
    }
   },
   "outputs": [
    {
     "data": {
      "text/html": [
       "<style>#sk-container-id-1 {color: black;background-color: white;}#sk-container-id-1 pre{padding: 0;}#sk-container-id-1 div.sk-toggleable {background-color: white;}#sk-container-id-1 label.sk-toggleable__label {cursor: pointer;display: block;width: 100%;margin-bottom: 0;padding: 0.3em;box-sizing: border-box;text-align: center;}#sk-container-id-1 label.sk-toggleable__label-arrow:before {content: \"▸\";float: left;margin-right: 0.25em;color: #696969;}#sk-container-id-1 label.sk-toggleable__label-arrow:hover:before {color: black;}#sk-container-id-1 div.sk-estimator:hover label.sk-toggleable__label-arrow:before {color: black;}#sk-container-id-1 div.sk-toggleable__content {max-height: 0;max-width: 0;overflow: hidden;text-align: left;background-color: #f0f8ff;}#sk-container-id-1 div.sk-toggleable__content pre {margin: 0.2em;color: black;border-radius: 0.25em;background-color: #f0f8ff;}#sk-container-id-1 input.sk-toggleable__control:checked~div.sk-toggleable__content {max-height: 200px;max-width: 100%;overflow: auto;}#sk-container-id-1 input.sk-toggleable__control:checked~label.sk-toggleable__label-arrow:before {content: \"▾\";}#sk-container-id-1 div.sk-estimator input.sk-toggleable__control:checked~label.sk-toggleable__label {background-color: #d4ebff;}#sk-container-id-1 div.sk-label input.sk-toggleable__control:checked~label.sk-toggleable__label {background-color: #d4ebff;}#sk-container-id-1 input.sk-hidden--visually {border: 0;clip: rect(1px 1px 1px 1px);clip: rect(1px, 1px, 1px, 1px);height: 1px;margin: -1px;overflow: hidden;padding: 0;position: absolute;width: 1px;}#sk-container-id-1 div.sk-estimator {font-family: monospace;background-color: #f0f8ff;border: 1px dotted black;border-radius: 0.25em;box-sizing: border-box;margin-bottom: 0.5em;}#sk-container-id-1 div.sk-estimator:hover {background-color: #d4ebff;}#sk-container-id-1 div.sk-parallel-item::after {content: \"\";width: 100%;border-bottom: 1px solid gray;flex-grow: 1;}#sk-container-id-1 div.sk-label:hover label.sk-toggleable__label {background-color: #d4ebff;}#sk-container-id-1 div.sk-serial::before {content: \"\";position: absolute;border-left: 1px solid gray;box-sizing: border-box;top: 0;bottom: 0;left: 50%;z-index: 0;}#sk-container-id-1 div.sk-serial {display: flex;flex-direction: column;align-items: center;background-color: white;padding-right: 0.2em;padding-left: 0.2em;position: relative;}#sk-container-id-1 div.sk-item {position: relative;z-index: 1;}#sk-container-id-1 div.sk-parallel {display: flex;align-items: stretch;justify-content: center;background-color: white;position: relative;}#sk-container-id-1 div.sk-item::before, #sk-container-id-1 div.sk-parallel-item::before {content: \"\";position: absolute;border-left: 1px solid gray;box-sizing: border-box;top: 0;bottom: 0;left: 50%;z-index: -1;}#sk-container-id-1 div.sk-parallel-item {display: flex;flex-direction: column;z-index: 1;position: relative;background-color: white;}#sk-container-id-1 div.sk-parallel-item:first-child::after {align-self: flex-end;width: 50%;}#sk-container-id-1 div.sk-parallel-item:last-child::after {align-self: flex-start;width: 50%;}#sk-container-id-1 div.sk-parallel-item:only-child::after {width: 0;}#sk-container-id-1 div.sk-dashed-wrapped {border: 1px dashed gray;margin: 0 0.4em 0.5em 0.4em;box-sizing: border-box;padding-bottom: 0.4em;background-color: white;}#sk-container-id-1 div.sk-label label {font-family: monospace;font-weight: bold;display: inline-block;line-height: 1.2em;}#sk-container-id-1 div.sk-label-container {text-align: center;}#sk-container-id-1 div.sk-container {/* jupyter's `normalize.less` sets `[hidden] { display: none; }` but bootstrap.min.css set `[hidden] { display: none !important; }` so we also need the `!important` here to be able to override the default hidden behavior on the sphinx rendered scikit-learn.org. See: https://github.com/scikit-learn/scikit-learn/issues/21755 */display: inline-block !important;position: relative;}#sk-container-id-1 div.sk-text-repr-fallback {display: none;}</style><div id=\"sk-container-id-1\" class=\"sk-top-container\"><div class=\"sk-text-repr-fallback\"><pre>GridSearchCV(cv=KFold(n_splits=10, random_state=7, shuffle=True),\n",
       "             estimator=RandomForestClassifier(random_state=7),\n",
       "             param_grid={&#x27;criterion&#x27;: [&#x27;gini&#x27;, &#x27;entropy&#x27;],\n",
       "                         &#x27;max_depth&#x27;: [2, 3, 5, 10, 20],\n",
       "                         &#x27;min_samples_leaf&#x27;: [5, 10, 20, 50, 100, 200],\n",
       "                         &#x27;n_estimators&#x27;: [10, 25, 50, 75, 100, 125, 150]})</pre><b>In a Jupyter environment, please rerun this cell to show the HTML representation or trust the notebook. <br />On GitHub, the HTML representation is unable to render, please try loading this page with nbviewer.org.</b></div><div class=\"sk-container\" hidden><div class=\"sk-item sk-dashed-wrapped\"><div class=\"sk-label-container\"><div class=\"sk-label sk-toggleable\"><input class=\"sk-toggleable__control sk-hidden--visually\" id=\"sk-estimator-id-1\" type=\"checkbox\" ><label for=\"sk-estimator-id-1\" class=\"sk-toggleable__label sk-toggleable__label-arrow\">GridSearchCV</label><div class=\"sk-toggleable__content\"><pre>GridSearchCV(cv=KFold(n_splits=10, random_state=7, shuffle=True),\n",
       "             estimator=RandomForestClassifier(random_state=7),\n",
       "             param_grid={&#x27;criterion&#x27;: [&#x27;gini&#x27;, &#x27;entropy&#x27;],\n",
       "                         &#x27;max_depth&#x27;: [2, 3, 5, 10, 20],\n",
       "                         &#x27;min_samples_leaf&#x27;: [5, 10, 20, 50, 100, 200],\n",
       "                         &#x27;n_estimators&#x27;: [10, 25, 50, 75, 100, 125, 150]})</pre></div></div></div><div class=\"sk-parallel\"><div class=\"sk-parallel-item\"><div class=\"sk-item\"><div class=\"sk-label-container\"><div class=\"sk-label sk-toggleable\"><input class=\"sk-toggleable__control sk-hidden--visually\" id=\"sk-estimator-id-2\" type=\"checkbox\" ><label for=\"sk-estimator-id-2\" class=\"sk-toggleable__label sk-toggleable__label-arrow\">estimator: RandomForestClassifier</label><div class=\"sk-toggleable__content\"><pre>RandomForestClassifier(random_state=7)</pre></div></div></div><div class=\"sk-serial\"><div class=\"sk-item\"><div class=\"sk-estimator sk-toggleable\"><input class=\"sk-toggleable__control sk-hidden--visually\" id=\"sk-estimator-id-3\" type=\"checkbox\" ><label for=\"sk-estimator-id-3\" class=\"sk-toggleable__label sk-toggleable__label-arrow\">RandomForestClassifier</label><div class=\"sk-toggleable__content\"><pre>RandomForestClassifier(random_state=7)</pre></div></div></div></div></div></div></div></div></div></div>"
      ],
      "text/plain": [
       "GridSearchCV(cv=KFold(n_splits=10, random_state=7, shuffle=True),\n",
       "             estimator=RandomForestClassifier(random_state=7),\n",
       "             param_grid={'criterion': ['gini', 'entropy'],\n",
       "                         'max_depth': [2, 3, 5, 10, 20],\n",
       "                         'min_samples_leaf': [5, 10, 20, 50, 100, 200],\n",
       "                         'n_estimators': [10, 25, 50, 75, 100, 125, 150]})"
      ]
     },
     "execution_count": 28,
     "metadata": {},
     "output_type": "execute_result"
    }
   ],
   "source": [
    "kfold = KFold(n_splits=10, random_state=7, shuffle=True)\n",
    "\n",
    "param_dict = { \n",
    "    \"criterion\":[\"gini\",\"entropy\"],\n",
    "    'n_estimators':[10,25,50,75,100,125,150],\n",
    "    'max_depth': [2,3,5,10,20],\n",
    "    'min_samples_leaf': [5,10,20,50,100,200]   \n",
    "}\n",
    "\n",
    "rf = RandomForestClassifier(random_state=7)\n",
    "\n",
    "grid = GridSearchCV(rf, param_grid=param_dict, cv=kfold)\n",
    "grid.fit(x, y) "
   ]
  },
  {
   "cell_type": "code",
   "execution_count": 29,
   "id": "de67feef",
   "metadata": {
    "ExecuteTime": {
     "end_time": "2022-11-15T09:07:14.023717Z",
     "start_time": "2022-11-15T09:07:14.007797Z"
    }
   },
   "outputs": [
    {
     "name": "stdout",
     "output_type": "stream",
     "text": [
      "0.7933333333333332\n",
      "{'criterion': 'gini', 'max_depth': 2, 'min_samples_leaf': 5, 'n_estimators': 10}\n"
     ]
    }
   ],
   "source": [
    "print(grid.best_score_)\n",
    "print(grid.best_params_)    "
   ]
  },
  {
   "cell_type": "markdown",
   "id": "a2b5ac93",
   "metadata": {},
   "source": [
    "## Building final model on grid.best_params_ parameters "
   ]
  },
  {
   "cell_type": "code",
   "execution_count": 30,
   "id": "5efbcb96",
   "metadata": {
    "ExecuteTime": {
     "end_time": "2022-11-15T09:07:14.196942Z",
     "start_time": "2022-11-15T09:07:14.023717Z"
    }
   },
   "outputs": [
    {
     "name": "stdout",
     "output_type": "stream",
     "text": [
      "Accuracy with k fold validation 0.793\n"
     ]
    }
   ],
   "source": [
    "model_kf =grid.best_estimator_\n",
    "model_kf.fit(x, y)\n",
    "\n",
    "results = cross_val_score(model_kf, x, y, cv=kfold)\n",
    "print('Accuracy with k fold validation', np.round(results.mean(),3))   "
   ]
  },
  {
   "cell_type": "code",
   "execution_count": 31,
   "id": "82fc6844",
   "metadata": {
    "ExecuteTime": {
     "end_time": "2022-11-15T09:07:14.228499Z",
     "start_time": "2022-11-15T09:07:14.196942Z"
    }
   },
   "outputs": [
    {
     "name": "stdout",
     "output_type": "stream",
     "text": [
      "Accuracy with train test split: 0.7666666666666667\n"
     ]
    }
   ],
   "source": [
    "model = grid.best_estimator_ \n",
    "model.fit(x_train, y_train)\n",
    "\n",
    "pred=model.predict(x_test)\n",
    "print('Accuracy with train test split:', accuracy_score(y_test, pred)) "
   ]
  },
  {
   "cell_type": "code",
   "execution_count": 32,
   "id": "b6b1bf3b",
   "metadata": {
    "ExecuteTime": {
     "end_time": "2022-11-15T09:07:14.244246Z",
     "start_time": "2022-11-15T09:07:14.228499Z"
    }
   },
   "outputs": [
    {
     "name": "stdout",
     "output_type": "stream",
     "text": [
      "              precision    recall  f1-score   support\n",
      "\n",
      "           0       0.77      1.00      0.87        92\n",
      "           1       0.00      0.00      0.00        28\n",
      "\n",
      "    accuracy                           0.77       120\n",
      "   macro avg       0.38      0.50      0.43       120\n",
      "weighted avg       0.59      0.77      0.67       120\n",
      "\n"
     ]
    }
   ],
   "source": [
    "print(classification_report(y_test, pred))  "
   ]
  },
  {
   "cell_type": "code",
   "execution_count": 33,
   "id": "95b16b9b",
   "metadata": {
    "ExecuteTime": {
     "end_time": "2022-11-15T09:07:14.419510Z",
     "start_time": "2022-11-15T09:07:14.244246Z"
    }
   },
   "outputs": [
    {
     "data": {
      "text/plain": [
       "<AxesSubplot:>"
      ]
     },
     "execution_count": 33,
     "metadata": {},
     "output_type": "execute_result"
    },
    {
     "data": {
      "image/png": "[encoded data removed]",
      "text/plain": [
       "<Figure size 432x288 with 2 Axes>"
      ]
     },
     "metadata": {
      "needs_background": "light"
     },
     "output_type": "display_data"
    }
   ],
   "source": [
    "sns.heatmap(confusion_matrix(y_test, pred), annot=True)  "
   ]
  },
  {
   "cell_type": "markdown",
   "id": "ff792bb3",
   "metadata": {},
   "source": [
    "Due to imbalanced dataset our results are getting biased towards the majority. The model is correctly classifying all the majority classes yet fails to classify the minority classes. "
   ]
  },
  {
   "cell_type": "markdown",
   "id": "a38a2194",
   "metadata": {},
   "source": [
    "# Thank You"
   ]
  }
 ],
 "metadata": {
  "kernelspec": {
   "display_name": "Python 3 (ipykernel)",
   "language": "python",
   "name": "python3"
  },
  "language_info": {
   "codemirror_mode": {
    "name": "ipython",
    "version": 3
   },
   "file_extension": ".py",
   "mimetype": "text/x-python",
   "name": "python",
   "nbconvert_exporter": "python",
   "pygments_lexer": "ipython3",
   "version": "3.9.12"
  }
 },
 "nbformat": 4,
 "nbformat_minor": 5
}
